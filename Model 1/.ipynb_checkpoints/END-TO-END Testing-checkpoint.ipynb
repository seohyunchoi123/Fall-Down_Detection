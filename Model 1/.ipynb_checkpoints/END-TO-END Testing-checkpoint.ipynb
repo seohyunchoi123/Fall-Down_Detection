{
 "cells": [
  {
   "cell_type": "code",
   "execution_count": 1,
   "metadata": {
    "scrolled": true
   },
   "outputs": [
    {
     "name": "stderr",
     "output_type": "stream",
     "text": [
      "C:\\Anaconda3\\lib\\site-packages\\h5py\\__init__.py:36: FutureWarning: Conversion of the second argument of issubdtype from `float` to `np.floating` is deprecated. In future, it will be treated as `np.float64 == np.dtype(float).type`.\n",
      "  from ._conv import register_converters as _register_converters\n"
     ]
    }
   ],
   "source": [
    "import cv2\n",
    "from os import chdir\n",
    "import os\n",
    "import tensorflow as tf\n",
    "import numpy as np\n",
    "import matplotlib.pyplot as plt\n",
    "from matplotlib.pyplot import imshow\n",
    "from V2I import video2image\n",
    "import datetime\n",
    "from moviepy.editor import *\n",
    "import pandas as pd\n",
    "import datetime\n",
    "import pickle"
   ]
  },
  {
   "cell_type": "code",
   "execution_count": 2,
   "metadata": {
    "scrolled": true
   },
   "outputs": [],
   "source": [
    "height =128\n",
    "width =128\n",
    "seq_len=30\n",
    "ms = 200\n",
    "\n",
    "video_wd ='D:\\\\tobigs2\\\\kakao\\\\Testset\\\\'\n",
    "model_saving_wd = 'D:\\\\tobigs2\\\\kakao\\\\Model 1\\\\5. Not Ensemble\\\\Model_Saved\\\\'\n",
    "\n",
    "print(datetime.datetime.now())\n",
    "data=np.zeros(128*128*3*30).reshape([1,30,128,128,3])\n",
    "label = []\n",
    "count = []\n",
    "i=0\n",
    "for path, dir, files in os.walk(video_wd):\n",
    "    if path == video_wd + 'No_Fall':\n",
    "        idx = 0 # no _fall\n",
    "    else :\n",
    "        idx= 1 # Fall\n",
    "    for file in files: \n",
    "        wd_file = path + '\\\\' + file\n",
    "        cnt, clips = video2image(wd = video_wd,\n",
    "                                video = wd_file,\n",
    "                                width =width,\n",
    "                                height = height,\n",
    "                                ms= ms,\n",
    "                                seq_len = seq_len,\n",
    "                                standard = 50)\n",
    "        data = np.concatenate([data, np.array(clips).reshape([1,30,128,128,3])], axis=0)\n",
    "        label.append(idx)\n",
    "        count.append(cnt)\n",
    "        i+=1\n",
    "        print('{} videos done.' . format(i))\n",
    "label = np.array(label)\n",
    "count = np.array(count)\n",
    "count[count>seq_len] = seq_len\n",
    "data = data[1:]\n",
    "ch_to_idx = {'Fall':1, 'No_Fall':0}\n",
    "n_videos = len(data)\n",
    "n_class = len(ch_to_idx)\n",
    "print(datetime.datetime.now())"
   ]
  },
  {
   "cell_type": "code",
   "execution_count": 5,
   "metadata": {},
   "outputs": [],
   "source": [
    "test_x = data\n",
    "test_y = label\n",
    "test_count = count"
   ]
  },
  {
   "cell_type": "code",
   "execution_count": 6,
   "metadata": {},
   "outputs": [
    {
     "name": "stdout",
     "output_type": "stream",
     "text": [
      "(100, 30, 128, 128, 3)\n",
      "(100,)\n",
      "(100,)\n"
     ]
    }
   ],
   "source": [
    "print(np.shape(test_x))\n",
    "print(np.shape(test_y))\n",
    "print(np.shape(test_count))"
   ]
  },
  {
   "cell_type": "code",
   "execution_count": 7,
   "metadata": {},
   "outputs": [],
   "source": [
    "ch_to_idx = {'Fall':1, 'No_Fall':0}\n",
    "n_videos = len(data)\n",
    "n_class = len(ch_to_idx)\n",
    "model_saving_wd = 'D:\\\\tobigs2\\\\kakao\\\\Model 1\\\\5. Not Ensemble\\\\Model_Saved\\\\'"
   ]
  },
  {
   "cell_type": "code",
   "execution_count": 8,
   "metadata": {
    "scrolled": true
   },
   "outputs": [
    {
     "name": "stdout",
     "output_type": "stream",
     "text": [
      "INFO:tensorflow:Restoring parameters from D:\\tobigs2\\kakao\\Model 1\\5. Not Ensemble\\Model_Saved\\0th try-Model.ckpt\n",
      "test accuracy :  0.4\n",
      "[1 1 1 1 1 1 1 1 1 1]\n",
      "[20 30 22 22 22 22 19 22 17 17]\n",
      "test accuracy :  0.4\n",
      "[1 1 1 1 1 1 1 1 1 1]\n",
      "[17 17 17 11 17 17 22 22 12 17]\n",
      "test accuracy :  0.3\n",
      "[1 1 1 1 1 1 1 1 1 1]\n",
      "[11  6 21 17 11 14 11 16 30 22]\n",
      "test accuracy :  0.5\n",
      "[1 1 1 1 1 1 1 1 1 1]\n",
      "[22 24 22 24 24 22 18 24 12  8]\n",
      "test accuracy :  0.4\n",
      "[1 1 1 1 1 1 1 1 1 1]\n",
      "[17 30 12 17 30 30 17 20 22 30]\n",
      "test accuracy :  0.9\n",
      "[0 0 0 0 0 0 0 0 0 0]\n",
      "[30 30 30 30 30 30 30 30 30 30]\n",
      "test accuracy :  0.7\n",
      "[0 0 0 0 0 0 0 0 0 0]\n",
      "[12 12  8 15 27 27 16 14  8 13]\n",
      "test accuracy :  0.8\n",
      "[0 0 0 0 0 0 0 0 0 0]\n",
      "[14 27 27 27 27 30 30 30 30 27]\n",
      "test accuracy :  0.7\n",
      "[0 0 0 0 0 0 0 0 0 0]\n",
      "[ 5 30 27 30 30 30 27 30 24  4]\n",
      "test accuracy :  0.6\n",
      "[0 0 0 0 0 0 0 0 0 0]\n",
      "[15 11 27 27 27 15 27 27 13 11]\n",
      "test accuracy :  nan\n",
      "[]\n",
      "[]\n"
     ]
    },
    {
     "data": {
      "text/html": [
       "<div>\n",
       "<style scoped>\n",
       "    .dataframe tbody tr th:only-of-type {\n",
       "        vertical-align: middle;\n",
       "    }\n",
       "\n",
       "    .dataframe tbody tr th {\n",
       "        vertical-align: top;\n",
       "    }\n",
       "\n",
       "    .dataframe thead th {\n",
       "        text-align: right;\n",
       "    }\n",
       "</style>\n",
       "<table border=\"1\" class=\"dataframe\">\n",
       "  <thead>\n",
       "    <tr style=\"text-align: right;\">\n",
       "      <th>col_0</th>\n",
       "      <th>0</th>\n",
       "      <th>1</th>\n",
       "    </tr>\n",
       "    <tr>\n",
       "      <th>row_0</th>\n",
       "      <th></th>\n",
       "      <th></th>\n",
       "    </tr>\n",
       "  </thead>\n",
       "  <tbody>\n",
       "    <tr>\n",
       "      <th>0.0</th>\n",
       "      <td>34</td>\n",
       "      <td>30</td>\n",
       "    </tr>\n",
       "    <tr>\n",
       "      <th>1.0</th>\n",
       "      <td>16</td>\n",
       "      <td>20</td>\n",
       "    </tr>\n",
       "  </tbody>\n",
       "</table>\n",
       "</div>"
      ],
      "text/plain": [
       "col_0   0   1\n",
       "row_0        \n",
       "0.0    34  30\n",
       "1.0    16  20"
      ]
     },
     "execution_count": 8,
     "metadata": {},
     "output_type": "execute_result"
    }
   ],
   "source": [
    "total_result=[]\n",
    "batch_size =10\n",
    "trying=0 # 첫번쨰모델로만 성능을 확인할거임\n",
    "\n",
    "tf.reset_default_graph()\n",
    "test_graph = tf.Graph()\n",
    "with tf.Session(graph=test_graph) as sess:\n",
    "    loader = tf.train.import_meta_graph(model_saving_wd + str(trying) + 'th try-' + 'Model.ckpt.meta')\n",
    "    loader.restore(sess, model_saving_wd + str(trying) + 'th try-'  +  'Model.ckpt')\n",
    "    \n",
    "    LSTM_x = test_graph.get_tensor_by_name(name='LSTM_x:0')\n",
    "    LSTM_y = test_graph.get_tensor_by_name(name='LSTM_y:0')\n",
    "    LSTM_count = test_graph.get_tensor_by_name(name='LSTM_count:0')\n",
    "    pred= test_graph.get_tensor_by_name(name='pred:0')\n",
    "    acc= test_graph.get_tensor_by_name(name='acc:0')\n",
    "    #L_2= loaded_graph.get_tensor_by_name(name='L_2:0')\n",
    "\n",
    "    for i in range(int(len(test_x)/batch_size )+1):\n",
    "        if i == int(n_videos/batch_size ): # 배치 다돌고 나머지 처리할떄 \n",
    "            batch_test_x = test_x[i*batch_size:]\n",
    "            batch_label = test_y[i*batch_size:]\n",
    "            batch_count = test_count[i*batch_size:]\n",
    "            \n",
    "        else:\n",
    "            batch_test_x = test_x[i*batch_size:(i+1)*batch_size]\n",
    "            batch_label = test_y[i*batch_size:(i+1)*batch_size]\n",
    "            batch_count = test_count[i*batch_size:(i+1)*batch_size]\n",
    "\n",
    "        print('test accuracy : ', sess.run(acc, feed_dict={LSTM_x:batch_test_x,\n",
    "                                                           LSTM_y:batch_label,\n",
    "                                                           LSTM_count:batch_count}))\n",
    "        prediction =  sess.run(pred,  feed_dict={LSTM_x:batch_test_x,\n",
    "                                                 LSTM_count:batch_count})\n",
    "        print(batch_label)\n",
    "        print(batch_count)\n",
    "\n",
    "        total_result += list(prediction)\n",
    "\n",
    "pd.crosstab(np.array(total_result), test_y)"
   ]
  }
 ],
 "metadata": {
  "kernelspec": {
   "display_name": "Python 3",
   "language": "python",
   "name": "python3"
  },
  "language_info": {
   "codemirror_mode": {
    "name": "ipython",
    "version": 3
   },
   "file_extension": ".py",
   "mimetype": "text/x-python",
   "name": "python",
   "nbconvert_exporter": "python",
   "pygments_lexer": "ipython3",
   "version": "3.6.5"
  }
 },
 "nbformat": 4,
 "nbformat_minor": 2
}
